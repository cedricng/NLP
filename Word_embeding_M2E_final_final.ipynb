{
  "nbformat": 4,
  "nbformat_minor": 0,
  "metadata": {
    "kernelspec": {
      "display_name": "Python 3",
      "language": "python",
      "name": "python3"
    },
    "language_info": {
      "codemirror_mode": {
        "name": "ipython",
        "version": 3
      },
      "file_extension": ".py",
      "mimetype": "text/x-python",
      "name": "python",
      "nbconvert_exporter": "python",
      "pygments_lexer": "ipython3",
      "version": "3.7.6"
    },
    "colab": {
      "name": "Word_embeding_M2E_final_final.ipynb",
      "provenance": [],
      "include_colab_link": true
    }
  },
  "cells": [
    {
      "cell_type": "markdown",
      "metadata": {
        "id": "view-in-github",
        "colab_type": "text"
      },
      "source": [
        "<a href=\"https://colab.research.google.com/github/cedricng/NLP/blob/main/Word_embeding_M2E_final_final.ipynb\" target=\"_parent\"><img src=\"https://colab.research.google.com/assets/colab-badge.svg\" alt=\"Open In Colab\"/></a>"
      ]
    },
    {
      "cell_type": "code",
      "metadata": {
        "id": "ie4WQv_q8tFr"
      },
      "source": [
        "import os\n",
        "import pandas as pd\n",
        "import numpy as np"
      ],
      "execution_count": null,
      "outputs": []
    },
    {
      "cell_type": "markdown",
      "metadata": {
        "id": "BT61HF7B8tFv"
      },
      "source": [
        "- 0) Collecte de données\n",
        "- 1) Chargement des données textuelles"
      ]
    },
    {
      "cell_type": "code",
      "metadata": {
        "scrolled": true,
        "id": "hJ46W4fC8tFw",
        "outputId": "44acf9e3-b0bf-436d-e380-11664bbb5cb9",
        "colab": {
          "base_uri": "https://localhost:8080/"
        }
      },
      "source": [
        "Dir='Data/'\n",
        "texte=[]\n",
        "for rep in os.listdir(Dir):\n",
        "    print(rep)\n",
        "    for files in os.listdir(Dir+rep):\n",
        "        print(files)\n",
        "        with open(Dir+rep+'/'+files,\"r\") as f:\n",
        "            texte.append(f.read().strip())\n",
        "    print('#########################')"
      ],
      "execution_count": null,
      "outputs": [
        {
          "output_type": "error",
          "ename": "FileNotFoundError",
          "evalue": "ignored",
          "traceback": [
            "\u001b[0;31m---------------------------------------------------------------------------\u001b[0m",
            "\u001b[0;31mFileNotFoundError\u001b[0m                         Traceback (most recent call last)",
            "\u001b[0;32m<ipython-input-2-9515904763bc>\u001b[0m in \u001b[0;36m<module>\u001b[0;34m()\u001b[0m\n\u001b[1;32m      1\u001b[0m \u001b[0mDir\u001b[0m\u001b[0;34m=\u001b[0m\u001b[0;34m'Data/'\u001b[0m\u001b[0;34m\u001b[0m\u001b[0;34m\u001b[0m\u001b[0m\n\u001b[1;32m      2\u001b[0m \u001b[0mtexte\u001b[0m\u001b[0;34m=\u001b[0m\u001b[0;34m[\u001b[0m\u001b[0;34m]\u001b[0m\u001b[0;34m\u001b[0m\u001b[0;34m\u001b[0m\u001b[0m\n\u001b[0;32m----> 3\u001b[0;31m \u001b[0;32mfor\u001b[0m \u001b[0mrep\u001b[0m \u001b[0;32min\u001b[0m \u001b[0mos\u001b[0m\u001b[0;34m.\u001b[0m\u001b[0mlistdir\u001b[0m\u001b[0;34m(\u001b[0m\u001b[0mDir\u001b[0m\u001b[0;34m)\u001b[0m\u001b[0;34m:\u001b[0m\u001b[0;34m\u001b[0m\u001b[0;34m\u001b[0m\u001b[0m\n\u001b[0m\u001b[1;32m      4\u001b[0m     \u001b[0mprint\u001b[0m\u001b[0;34m(\u001b[0m\u001b[0mrep\u001b[0m\u001b[0;34m)\u001b[0m\u001b[0;34m\u001b[0m\u001b[0;34m\u001b[0m\u001b[0m\n\u001b[1;32m      5\u001b[0m     \u001b[0;32mfor\u001b[0m \u001b[0mfiles\u001b[0m \u001b[0;32min\u001b[0m \u001b[0mos\u001b[0m\u001b[0;34m.\u001b[0m\u001b[0mlistdir\u001b[0m\u001b[0;34m(\u001b[0m\u001b[0mDir\u001b[0m\u001b[0;34m+\u001b[0m\u001b[0mrep\u001b[0m\u001b[0;34m)\u001b[0m\u001b[0;34m:\u001b[0m\u001b[0;34m\u001b[0m\u001b[0;34m\u001b[0m\u001b[0m\n",
            "\u001b[0;31mFileNotFoundError\u001b[0m: [Errno 2] No such file or directory: 'Data/'"
          ]
        }
      ]
    },
    {
      "cell_type": "code",
      "metadata": {
        "id": "weTVI2n-8tFz"
      },
      "source": [
        "seuil=950000\n",
        "textes=[]\n",
        "for elem in texte:\n",
        "    if len(elem) > seuil:\n",
        "        for i in range(0,len(elem),seuil):\n",
        "            textes.append(elem[i:i+seuil])\n",
        "    else:\n",
        "        textes.append(elem)"
      ],
      "execution_count": null,
      "outputs": []
    },
    {
      "cell_type": "code",
      "metadata": {
        "id": "5dVrTc8c8tFz",
        "outputId": "48c7ca76-3806-4599-c150-3ec91902d26b"
      },
      "source": [
        "len(texte),len(textes)"
      ],
      "execution_count": null,
      "outputs": [
        {
          "output_type": "execute_result",
          "data": {
            "text/plain": [
              "(71, 113)"
            ]
          },
          "metadata": {
            "tags": []
          },
          "execution_count": 10
        }
      ]
    },
    {
      "cell_type": "markdown",
      "metadata": {
        "id": "B6xiRjhc8tF0"
      },
      "source": [
        "2) Le nettoyage\n",
        "\n",
        "liste=[phrase 1, phrase 2, phrase3, phrase N] (où N est le nombre de phrase de tous les textes)\n",
        "et phrase 1 = [mot1,mot2, ...,motn] (où n est le nombre de mot de la phrase 1)"
      ]
    },
    {
      "cell_type": "code",
      "metadata": {
        "id": "ykCe7QYg8tF1"
      },
      "source": [
        "import spacy\n",
        "# Chargement du modele français\n",
        "nlp = spacy.load('fr_core_news_sm')"
      ],
      "execution_count": null,
      "outputs": []
    },
    {
      "cell_type": "code",
      "metadata": {
        "id": "JB69OHvl8tF2",
        "outputId": "54c5f9b5-5e69-4304-a82b-78b50336f203"
      },
      "source": [
        "import re # Regular Expressions (re)\n",
        "\n",
        "def nettoyage(tex):\n",
        "    # Conserver tous les caracteres sauf les speciaux ($¨#([)) et le chiffres\n",
        "    p='[a-zA-Zéâûèàùîôêç\\-.!?:]{1,}'\n",
        "    \n",
        "    # stop words\n",
        "    with open('stop-w_fr.txt') as f:\n",
        "        s_w=f.read().split('\\n')\n",
        "    s_w.remove('fait')\n",
        "    \n",
        "    # lematizer ou stemmer avec spacy\n",
        "    \n",
        "    \n",
        "    # Laisser un peu de place autour de chaque separateur de phrase\n",
        "    tex=tex.replace('!',' ! ').replace('.',' . ').replace('?',' ? ').replace(':',' : ')\n",
        "    tex=' '.join([elem.lemma_ for elem in nlp(tex,disable=['tagger', 'parser', 'ner'])])\n",
        "    final=[]\n",
        "    for mot in re.findall(p,tex):\n",
        "        if mot.lower() not in s_w :\n",
        "            final.append(mot.lower())\n",
        "    \n",
        "    # Manipulation pour mettre les donnees au format d'entrainement\n",
        "    retour=[]\n",
        "    phrase=[]\n",
        "    for tok in final:\n",
        "        if tok in \".!?:\":\n",
        "            if len(phrase) > 4:\n",
        "                retour.append(phrase)\n",
        "                phrase=[]\n",
        "            else:\n",
        "                phrase=[]\n",
        "        else:\n",
        "            phrase.append(tok.strip())\n",
        "    return retour\n",
        "\n",
        "\n",
        "te=\"Salut à'tous les terriens des grandes visions simplifiées. d $ *$ qdqdd qdjpodkgpg ça va là et Coùcoù les amis nous sommes particulierment heureux!\"\n",
        "nettoyage(te)"
      ],
      "execution_count": null,
      "outputs": [
        {
          "output_type": "execute_result",
          "data": {
            "text/plain": [
              "[['salut', 'terrien', 'grand', 'vision', 'simplifier'],\n",
              " ['qdqdd',\n",
              "  'qdjpodkgpg',\n",
              "  'aller',\n",
              "  'coùcoù',\n",
              "  'ami',\n",
              "  'particulierment',\n",
              "  'heureux']]"
            ]
          },
          "metadata": {
            "tags": []
          },
          "execution_count": 12
        }
      ]
    },
    {
      "cell_type": "code",
      "metadata": {
        "scrolled": true,
        "id": "2pUrhwEa8tF3",
        "outputId": "b6d32b8e-e519-4af2-8d96-671cae032ee4"
      },
      "source": [
        "from tqdm import tqdm\n",
        "entre=[nettoyage(elem) for elem in tqdm(textes)]\n",
        "\n",
        "liste=[]\n",
        "for elem in entre:\n",
        "    liste=liste+elem"
      ],
      "execution_count": null,
      "outputs": [
        {
          "output_type": "stream",
          "text": [
            "\n",
            "  0%|          | 0/113 [00:00<?, ?it/s]\u001b[A\n",
            "  1%|          | 1/113 [00:00<00:48,  2.29it/s]\u001b[A\n",
            "  3%|▎         | 3/113 [00:01<00:53,  2.06it/s]\u001b[A\n",
            "  4%|▎         | 4/113 [00:01<00:44,  2.47it/s]\u001b[A\n",
            "  4%|▍         | 5/113 [00:02<00:35,  3.03it/s]\u001b[A\n",
            "  5%|▌         | 6/113 [00:03<01:23,  1.28it/s]\u001b[A\n",
            "  6%|▌         | 7/113 [00:04<01:05,  1.63it/s]\u001b[A\n",
            "  7%|▋         | 8/113 [00:04<00:55,  1.89it/s]\u001b[A\n",
            "  9%|▉         | 10/113 [00:04<00:42,  2.41it/s]\u001b[A\n",
            " 10%|▉         | 11/113 [00:07<01:55,  1.13s/it]\u001b[A\n",
            " 11%|█         | 12/113 [00:10<02:45,  1.64s/it]\u001b[A\n",
            " 12%|█▏        | 13/113 [00:12<03:11,  1.91s/it]\u001b[A\n",
            " 12%|█▏        | 14/113 [00:15<03:42,  2.25s/it]\u001b[A\n",
            " 13%|█▎        | 15/113 [00:18<03:57,  2.42s/it]\u001b[A\n",
            " 14%|█▍        | 16/113 [00:21<04:10,  2.58s/it]\u001b[A\n",
            " 15%|█▌        | 17/113 [00:24<04:16,  2.67s/it]\u001b[A\n",
            " 16%|█▌        | 18/113 [00:27<04:21,  2.75s/it]\u001b[A\n",
            " 17%|█▋        | 19/113 [00:30<04:24,  2.82s/it]\u001b[A\n",
            " 18%|█▊        | 20/113 [00:33<04:23,  2.83s/it]\u001b[A\n",
            " 19%|█▊        | 21/113 [00:36<04:25,  2.88s/it]\u001b[A\n",
            " 19%|█▉        | 22/113 [00:39<04:20,  2.87s/it]\u001b[A\n",
            " 20%|██        | 23/113 [00:42<04:20,  2.89s/it]\u001b[A\n",
            " 21%|██        | 24/113 [00:45<04:18,  2.90s/it]\u001b[A\n",
            " 22%|██▏       | 25/113 [00:47<04:14,  2.89s/it]\u001b[A\n",
            " 23%|██▎       | 26/113 [00:50<04:12,  2.91s/it]\u001b[A\n",
            " 24%|██▍       | 27/113 [00:53<04:11,  2.92s/it]\u001b[A\n",
            " 25%|██▍       | 28/113 [00:56<04:13,  2.98s/it]\u001b[A\n",
            " 26%|██▌       | 29/113 [00:59<04:05,  2.93s/it]\u001b[A\n",
            " 27%|██▋       | 30/113 [01:02<04:00,  2.90s/it]\u001b[A\n",
            " 27%|██▋       | 31/113 [01:04<03:21,  2.46s/it]\u001b[A\n",
            " 28%|██▊       | 32/113 [01:04<02:40,  1.98s/it]\u001b[A\n",
            " 29%|██▉       | 33/113 [01:05<02:10,  1.63s/it]\u001b[A\n",
            " 30%|███       | 34/113 [01:06<01:58,  1.50s/it]\u001b[A\n",
            " 31%|███       | 35/113 [01:08<02:08,  1.65s/it]\u001b[A\n",
            " 32%|███▏      | 36/113 [01:11<02:24,  1.88s/it]\u001b[A\n",
            " 33%|███▎      | 37/113 [01:14<02:57,  2.34s/it]\u001b[A\n",
            " 34%|███▎      | 38/113 [01:18<03:20,  2.67s/it]\u001b[A\n",
            " 35%|███▍      | 39/113 [01:21<03:37,  2.94s/it]\u001b[A\n",
            " 35%|███▌      | 40/113 [01:25<03:44,  3.08s/it]\u001b[A\n",
            " 36%|███▋      | 41/113 [01:28<03:54,  3.26s/it]\u001b[A\n",
            " 37%|███▋      | 42/113 [01:32<04:03,  3.43s/it]\u001b[A\n",
            " 38%|███▊      | 43/113 [01:35<03:58,  3.41s/it]\u001b[A\n",
            " 39%|███▉      | 44/113 [01:38<03:43,  3.24s/it]\u001b[A\n",
            " 40%|███▉      | 45/113 [01:41<03:34,  3.16s/it]\u001b[A\n",
            " 41%|████      | 46/113 [01:41<02:31,  2.26s/it]\u001b[A\n",
            " 42%|████▏     | 47/113 [01:43<02:21,  2.15s/it]\u001b[A\n",
            " 42%|████▏     | 48/113 [01:45<02:19,  2.15s/it]\u001b[A\n",
            " 43%|████▎     | 49/113 [01:46<01:43,  1.62s/it]\u001b[A\n",
            " 44%|████▍     | 50/113 [01:46<01:22,  1.31s/it]\u001b[A\n",
            " 45%|████▌     | 51/113 [01:47<01:14,  1.20s/it]\u001b[A\n",
            " 46%|████▌     | 52/113 [01:48<00:53,  1.14it/s]\u001b[A\n",
            " 47%|████▋     | 53/113 [01:51<01:31,  1.52s/it]\u001b[A\n",
            " 48%|████▊     | 54/113 [01:51<01:07,  1.14s/it]\u001b[A\n",
            " 49%|████▊     | 55/113 [01:52<01:07,  1.16s/it]\u001b[A\n",
            " 50%|████▉     | 56/113 [01:52<00:54,  1.05it/s]\u001b[A\n",
            " 50%|█████     | 57/113 [01:53<00:53,  1.04it/s]\u001b[A\n",
            " 51%|█████▏    | 58/113 [01:54<00:39,  1.38it/s]\u001b[A\n",
            " 52%|█████▏    | 59/113 [01:56<01:00,  1.12s/it]\u001b[A\n",
            " 53%|█████▎    | 60/113 [01:58<01:15,  1.42s/it]\u001b[A\n",
            " 54%|█████▍    | 61/113 [02:00<01:20,  1.56s/it]\u001b[A\n",
            " 55%|█████▍    | 62/113 [02:00<00:57,  1.14s/it]\u001b[A\n",
            " 56%|█████▌    | 63/113 [02:00<00:45,  1.11it/s]\u001b[A\n",
            " 57%|█████▋    | 64/113 [02:01<00:46,  1.05it/s]\u001b[A\n",
            " 58%|█████▊    | 65/113 [02:03<01:01,  1.27s/it]\u001b[A\n",
            " 58%|█████▊    | 66/113 [02:04<00:57,  1.23s/it]\u001b[A\n",
            " 59%|█████▉    | 67/113 [02:05<00:52,  1.15s/it]\u001b[A\n",
            " 60%|██████    | 68/113 [02:08<01:11,  1.60s/it]\u001b[A\n",
            " 61%|██████    | 69/113 [02:08<00:51,  1.17s/it]\u001b[A\n",
            " 62%|██████▏   | 70/113 [02:11<01:08,  1.60s/it]\u001b[A\n",
            " 63%|██████▎   | 71/113 [02:11<00:49,  1.19s/it]\u001b[A\n",
            " 64%|██████▎   | 72/113 [02:13<00:59,  1.46s/it]\u001b[A\n",
            " 65%|██████▍   | 73/113 [02:13<00:43,  1.08s/it]\u001b[A\n",
            " 65%|██████▌   | 74/113 [02:16<01:01,  1.57s/it]\u001b[A\n",
            " 66%|██████▋   | 75/113 [02:19<01:11,  1.87s/it]\u001b[A\n",
            " 67%|██████▋   | 76/113 [02:19<00:50,  1.35s/it]\u001b[A\n",
            " 68%|██████▊   | 77/113 [02:20<00:46,  1.28s/it]\u001b[A\n",
            " 69%|██████▉   | 78/113 [02:23<01:00,  1.72s/it]\u001b[A\n",
            " 70%|██████▉   | 79/113 [02:23<00:45,  1.35s/it]\u001b[A\n",
            " 71%|███████   | 80/113 [02:24<00:36,  1.12s/it]\u001b[A\n",
            " 72%|███████▏  | 81/113 [02:24<00:29,  1.08it/s]\u001b[A\n",
            " 73%|███████▎  | 82/113 [02:25<00:26,  1.17it/s]\u001b[A\n",
            " 73%|███████▎  | 83/113 [02:26<00:29,  1.01it/s]\u001b[A\n",
            " 74%|███████▍  | 84/113 [02:26<00:22,  1.31it/s]\u001b[A\n",
            " 75%|███████▌  | 85/113 [02:27<00:24,  1.16it/s]\u001b[A\n",
            " 76%|███████▌  | 86/113 [02:28<00:18,  1.49it/s]\u001b[A\n",
            " 77%|███████▋  | 87/113 [02:28<00:16,  1.54it/s]\u001b[A\n",
            " 78%|███████▊  | 88/113 [02:31<00:29,  1.19s/it]\u001b[A\n",
            " 79%|███████▉  | 89/113 [02:31<00:21,  1.10it/s]\u001b[A\n",
            " 80%|███████▉  | 90/113 [02:32<00:19,  1.17it/s]\u001b[A\n",
            " 81%|████████  | 91/113 [02:33<00:20,  1.07it/s]\u001b[A\n",
            " 81%|████████▏ | 92/113 [02:33<00:14,  1.41it/s]\u001b[A\n",
            " 82%|████████▏ | 93/113 [02:33<00:10,  1.89it/s]\u001b[A\n",
            " 83%|████████▎ | 94/113 [02:36<00:23,  1.24s/it]\u001b[A\n",
            " 84%|████████▍ | 95/113 [02:39<00:30,  1.67s/it]\u001b[A\n",
            " 85%|████████▍ | 96/113 [02:42<00:34,  2.03s/it]\u001b[A\n",
            " 86%|████████▌ | 97/113 [02:44<00:36,  2.30s/it]\u001b[A\n",
            " 87%|████████▋ | 98/113 [02:47<00:36,  2.44s/it]\u001b[A\n",
            " 88%|████████▊ | 99/113 [02:50<00:35,  2.53s/it]\u001b[A\n",
            " 88%|████████▊ | 100/113 [02:53<00:34,  2.65s/it]\u001b[A\n",
            " 89%|████████▉ | 101/113 [02:56<00:32,  2.71s/it]\u001b[A\n",
            " 90%|█████████ | 102/113 [02:56<00:22,  2.03s/it]\u001b[A\n",
            " 91%|█████████ | 103/113 [02:57<00:16,  1.65s/it]\u001b[A\n",
            " 92%|█████████▏| 104/113 [02:58<00:13,  1.50s/it]\u001b[A\n",
            " 93%|█████████▎| 105/113 [02:59<00:09,  1.19s/it]\u001b[A\n",
            " 94%|█████████▍| 106/113 [03:01<00:11,  1.71s/it]\u001b[A\n",
            " 95%|█████████▍| 107/113 [03:03<00:10,  1.72s/it]\u001b[A\n",
            " 96%|█████████▌| 108/113 [03:04<00:07,  1.49s/it]\u001b[A\n",
            " 96%|█████████▋| 109/113 [03:07<00:07,  1.92s/it]\u001b[A\n",
            " 97%|█████████▋| 110/113 [03:07<00:04,  1.40s/it]\u001b[A\n",
            " 98%|█████████▊| 111/113 [03:10<00:03,  1.64s/it]\u001b[A\n",
            " 99%|█████████▉| 112/113 [03:10<00:01,  1.39s/it]\u001b[A\n",
            "100%|██████████| 113/113 [03:12<00:00,  1.70s/it]\u001b[A\n"
          ],
          "name": "stderr"
        }
      ]
    },
    {
      "cell_type": "markdown",
      "metadata": {
        "id": "2tYOeNJj8tF4"
      },
      "source": [
        "3) Construire un modèle type Word2Vec avec gensim\n",
        "\n",
        "Word2Vec possède différents paramètres, dont les plus importants sont :\n",
        "\n",
        "– La dimensionnalité de l’espace vectoriel à construire, c'est-à-dire le nombre de descripteurs\n",
        "numériques utilisés pour décrire les mots (entre 100 et 1000 en général).\n",
        "\n",
        "– La taille du contexte d’un mot, c'est-à-dire le nombre de termes entourant le mot en question (les\n",
        "auteurs suggèrent d’utiliser des contextes de taille 10 avec l’architecture Skip-Gram et 5 avec\n",
        "l’architecture CBOW).\n",
        "\n",
        "Étant donné que Word2Vec n’est composé que de deux couches, cet algorithme est rapide à\n",
        "entraîner et à exécuter, ce qui se révèle être un avantage important par rapport à d'autres méthodes\n",
        "de word embedding."
      ]
    },
    {
      "cell_type": "code",
      "metadata": {
        "id": "yan7zTnK8tF6"
      },
      "source": [
        "from gensim.models import Word2Vec\n",
        "model = Word2Vec(sentences=liste, size=80, window=12, min_count=3, workers=8)"
      ],
      "execution_count": null,
      "outputs": []
    },
    {
      "cell_type": "code",
      "metadata": {
        "id": "HrLK2kTA8tF6"
      },
      "source": [
        "model.save(\"word2vec.model\")"
      ],
      "execution_count": null,
      "outputs": []
    },
    {
      "cell_type": "code",
      "metadata": {
        "id": "UbUvr1gf8tF7"
      },
      "source": [
        "def nett(tex):\n",
        "    # Conserver tous les caracteres sauf les speciaux ($¨#([)) et le chiffres\n",
        "    p='[a-zA-Zéâûèàùîôêç\\-.!?:]{1,}'\n",
        "    \n",
        "    # stop words\n",
        "    with open('stop-w_fr.txt') as f:\n",
        "        s_w=f.read().split('\\n')\n",
        "    s_w.remove('fait')\n",
        "    \n",
        "    \n",
        "    \n",
        "    # Laisser un peu de place autour de chaque separateur de phrase\n",
        "    tex=tex.replace('!',' ! ').replace('.',' . ').replace('?',' ? ').replace(':',' : ')\n",
        "    \n",
        "    # lematizer ou stemmer\n",
        "    tex=' '.join([elem.lemma_ for elem in nlp(tex,disable=['tagger', 'parser', 'ner'])])\n",
        "    \n",
        "    final=[]\n",
        "    for mot in re.findall(p,tex):\n",
        "        if mot.lower() not in s_w :\n",
        "            final.append(mot.lower())\n",
        "\n",
        "\n",
        "    return ' '.join(final).strip()\n"
      ],
      "execution_count": null,
      "outputs": []
    },
    {
      "cell_type": "code",
      "metadata": {
        "id": "gBEj8FGf8tF7",
        "outputId": "eb63a517-473d-44f2-ed65-214d952040b3"
      },
      "source": [
        "model.most_similar(nett('christ'))"
      ],
      "execution_count": null,
      "outputs": [
        {
          "output_type": "stream",
          "text": [
            "/home/david/anaconda3/envs/dev/lib/python3.7/site-packages/ipykernel_launcher.py:1: DeprecationWarning: Call to deprecated `most_similar` (Method will be removed in 4.0.0, use self.wv.most_similar() instead).\n",
            "  \"\"\"Entry point for launching an IPython kernel.\n"
          ],
          "name": "stderr"
        },
        {
          "output_type": "execute_result",
          "data": {
            "text/plain": [
              "[('jésus', 0.8935998678207397),\n",
              " ('sacrer', 0.8599749207496643),\n",
              " ('circoncision', 0.8474659323692322),\n",
              " ('christianisme', 0.8437423706054688),\n",
              " ('saint', 0.8306735754013062),\n",
              " ('eucharistie', 0.8291370272636414),\n",
              " ('dieu', 0.8259482383728027),\n",
              " ('prophète', 0.8215276598930359),\n",
              " ('bienheureux', 0.8194591403007507),\n",
              " ('sauveur', 0.8065285086631775)]"
            ]
          },
          "metadata": {
            "tags": []
          },
          "execution_count": 68
        }
      ]
    },
    {
      "cell_type": "code",
      "metadata": {
        "id": "ZVzyBQTZ8tF8",
        "outputId": "f8ad2d17-0993-47a1-c517-5881330a6610"
      },
      "source": [
        "model.doesnt_match(nett('voiture bateau rouge moto').split())"
      ],
      "execution_count": null,
      "outputs": [
        {
          "output_type": "stream",
          "text": [
            "/home/david/anaconda3/envs/dev/lib/python3.7/site-packages/ipykernel_launcher.py:1: DeprecationWarning: Call to deprecated `doesnt_match` (Method will be removed in 4.0.0, use self.wv.doesnt_match() instead).\n",
            "  \"\"\"Entry point for launching an IPython kernel.\n",
            "/home/david/anaconda3/envs/dev/lib/python3.7/site-packages/gensim/models/keyedvectors.py:877: FutureWarning: arrays to stack must be passed as a \"sequence\" type such as list or tuple. Support for non-sequence iterables such as generators is deprecated as of NumPy 1.16 and will raise an error in the future.\n",
            "  vectors = vstack(self.word_vec(word, use_norm=True) for word in used_words).astype(REAL)\n"
          ],
          "name": "stderr"
        },
        {
          "output_type": "execute_result",
          "data": {
            "text/plain": [
              "'rouge'"
            ]
          },
          "metadata": {
            "tags": []
          },
          "execution_count": 69
        }
      ]
    },
    {
      "cell_type": "code",
      "metadata": {
        "id": "jNMavv538tF9",
        "outputId": "8eccfe9c-64e5-4f7a-93e8-dfb3165a9ec2"
      },
      "source": [
        "#arithmetic operations\n",
        "model.most_similar(positive=nett('roi femme').split(), negative=nett('homme').split())"
      ],
      "execution_count": null,
      "outputs": [
        {
          "output_type": "stream",
          "text": [
            "/home/david/anaconda3/envs/dev/lib/python3.7/site-packages/ipykernel_launcher.py:2: DeprecationWarning: Call to deprecated `most_similar` (Method will be removed in 4.0.0, use self.wv.most_similar() instead).\n",
            "  \n"
          ],
          "name": "stderr"
        },
        {
          "output_type": "execute_result",
          "data": {
            "text/plain": [
              "[('jephté', 0.685691237449646),\n",
              " ('reine', 0.6854047775268555),\n",
              " ('princesse', 0.6851055026054382),\n",
              " ('sultan', 0.679006814956665),\n",
              " ('hérodias', 0.6769931316375732),\n",
              " ('cardinal', 0.6521223187446594),\n",
              " ('badoure', 0.6341452598571777),\n",
              " ('prince', 0.631423830986023),\n",
              " ('mohammed', 0.63031005859375),\n",
              " ('cadette', 0.6281528472900391)]"
            ]
          },
          "metadata": {
            "tags": []
          },
          "execution_count": 70
        }
      ]
    },
    {
      "cell_type": "code",
      "metadata": {
        "id": "DDmkC9MF8tF-",
        "outputId": "374db85e-4d14-4807-ffa9-006aaf5c51bb"
      },
      "source": [
        "model.most_similar(positive=nett('automobile cheval').split(), negative=nett('moteur').split())"
      ],
      "execution_count": null,
      "outputs": [
        {
          "output_type": "stream",
          "text": [
            "/home/david/anaconda3/envs/dev/lib/python3.7/site-packages/ipykernel_launcher.py:1: DeprecationWarning: Call to deprecated `most_similar` (Method will be removed in 4.0.0, use self.wv.most_similar() instead).\n",
            "  \"\"\"Entry point for launching an IPython kernel.\n"
          ],
          "name": "stderr"
        },
        {
          "output_type": "execute_result",
          "data": {
            "text/plain": [
              "[('attelage', 0.6992292404174805),\n",
              " ('chien', 0.6772733926773071),\n",
              " ('auberge', 0.6740537881851196),\n",
              " ('mulet', 0.6732149720191956),\n",
              " ('monture', 0.6682400703430176),\n",
              " ('écurie', 0.6558144092559814),\n",
              " ('chasseur', 0.6536445617675781),\n",
              " ('caravane', 0.651880145072937),\n",
              " ('bagage', 0.6506736874580383),\n",
              " ('soldat', 0.6442724466323853)]"
            ]
          },
          "metadata": {
            "tags": []
          },
          "execution_count": 79
        }
      ]
    },
    {
      "cell_type": "code",
      "metadata": {
        "scrolled": true,
        "id": "h53nvnkm8tF-",
        "outputId": "eb6b289f-7ea4-479f-9f70-aa8a612ee78d"
      },
      "source": [
        "model.wv.get_vector(nett('maison'))"
      ],
      "execution_count": null,
      "outputs": [
        {
          "output_type": "execute_result",
          "data": {
            "text/plain": [
              "array([-6.4599538e-01, -1.4279811e+00, -5.9948725e-01, -2.2482650e+00,\n",
              "        1.5752898e-03, -9.8235750e-01, -4.1714343e-01, -1.1957718e+00,\n",
              "        3.3958232e-01, -2.0545108e+00, -1.1923021e+00, -6.8782669e-01,\n",
              "        6.9115222e-01,  5.9997767e-01, -2.6789453e+00, -3.7939236e-01,\n",
              "        1.0547735e-01,  2.6581928e-01,  1.1641549e+00, -3.3980590e-01,\n",
              "        1.0317030e+00, -1.0834773e+00,  1.0635152e+00,  2.9366796e+00,\n",
              "       -2.7553099e-01,  2.4722903e+00,  5.2276757e-02,  1.4512022e+00,\n",
              "       -2.1762323e+00, -1.8749046e+00,  4.3488577e-01,  2.2793734e-01,\n",
              "       -1.1650620e+00,  2.3197434e+00,  2.5744941e+00, -1.2980177e+00,\n",
              "       -8.5686460e-02,  1.6155938e+00, -1.2901368e+00, -2.0029023e+00,\n",
              "       -6.7395008e-01, -1.8232046e+00, -1.5567678e-01, -7.7238679e-01,\n",
              "       -7.4633080e-01, -2.7302754e-01, -8.7495577e-01,  2.7927709e-01,\n",
              "       -3.8484633e-01,  2.5755603e+00,  4.7927511e-01,  2.8518753e+00,\n",
              "       -1.0118201e+00, -5.9938681e-01,  2.8019617e+00,  2.9946902e-01,\n",
              "       -1.2417139e+00,  3.4681752e-01, -2.2206976e+00,  1.6819009e+00,\n",
              "        3.6638907e-01, -9.7639513e-01, -1.1953317e+00,  4.3232530e-01,\n",
              "        3.5883024e+00, -1.0675768e+00,  5.2578467e-01,  7.7010739e-01,\n",
              "       -1.4854495e-02, -9.6397477e-01,  4.0998954e-01,  2.6741767e+00,\n",
              "       -1.7056631e-02, -4.4064733e-01,  1.4378799e+00,  2.5216207e-01,\n",
              "        9.5493329e-01,  2.9997176e-01, -2.4130855e+00, -3.2463472e+00],\n",
              "      dtype=float32)"
            ]
          },
          "metadata": {
            "tags": []
          },
          "execution_count": 72
        }
      ]
    },
    {
      "cell_type": "code",
      "metadata": {
        "id": "WdLXv1Gg8tF_",
        "outputId": "5ca9c91c-71f2-4957-98aa-93bcb8ad8d59"
      },
      "source": [
        "i=0\n",
        "for elem in model.wv.vocab:\n",
        "    if i < 20 :\n",
        "        print(elem)\n",
        "        print(model.wv.get_vector(elem))\n",
        "        i=i+1"
      ],
      "execution_count": null,
      "outputs": [
        {
          "output_type": "stream",
          "text": [
            "ouvrage\n",
            "[ 3.1330928e-01  8.4410846e-01  6.8785614e-01 -2.5435913e-01\n",
            " -1.3640780e+00  1.5216159e+00 -4.1607359e-01 -8.2439822e-01\n",
            "  5.0342768e-01 -1.5843339e+00 -1.3493268e+00 -3.5751717e+00\n",
            "  2.0637553e+00  3.0677125e+00 -1.1562760e+00 -1.0518168e-01\n",
            " -1.8934785e+00  2.5689714e+00  3.6096659e-01  6.5269135e-02\n",
            " -1.2401016e+00 -2.2786229e+00 -1.1909050e+00  2.7418640e-01\n",
            " -2.2443650e+00  1.2625477e+00 -9.6472991e-01  2.0304258e+00\n",
            "  2.2664781e+00  3.9685741e-01 -2.1446116e+00 -2.1158645e+00\n",
            " -1.2666708e-01 -1.3466955e+00  2.0809352e+00 -2.5934689e+00\n",
            "  4.4805098e-01 -5.6110322e-01 -1.4836573e-03  6.9899184e-01\n",
            "  4.2426750e-01  2.3016545e-01 -1.7642865e+00  1.4334248e-01\n",
            "  9.2995620e-01  1.0611515e+00 -2.2252097e+00 -2.2582729e+00\n",
            "  1.0135503e+00 -1.2504587e+00  2.2107348e+00  4.8326284e-01\n",
            " -1.1590662e+00 -1.0181497e+00 -1.8861067e+00 -1.9463625e+00\n",
            " -4.8994702e-01 -4.2443287e-01  9.7601461e-01 -1.1380887e+00\n",
            "  6.8023765e-01  4.7359960e-03 -3.0622095e-01  4.9415404e-01\n",
            "  1.7554091e+00  1.3927965e+00 -2.0761135e-01 -8.7491244e-01\n",
            " -1.4314473e+00 -8.7759227e-01 -7.3434889e-02  4.7509456e-01\n",
            " -2.3476512e+00 -1.4942635e+00 -7.7937585e-01  3.3190744e+00\n",
            "  6.3645475e-02 -5.8696395e-01  6.6553539e-01 -5.5444288e-01]\n",
            "voir\n",
            "[-2.4816566   0.67010015 -0.4280081  -1.0697988   0.17092104 -1.6661495\n",
            " -1.6246839  -0.1656071   1.0819465  -1.0210407   0.45246202 -1.9972535\n",
            "  0.36247492 -0.45792097 -0.1810972  -0.4115847   0.5816417   0.9348243\n",
            "  0.31932056 -0.21062134 -0.6876988  -1.1641378  -2.4714313  -0.42449424\n",
            "  0.11039558 -0.07065272 -0.17598452  0.61909056  0.14315622  0.65465677\n",
            "  0.5316762  -0.03009343  1.0108689  -0.36397135  0.30406463 -0.17097263\n",
            "  0.70852077  0.21626562 -0.8396734  -1.025313   -0.7103232  -0.0730265\n",
            " -1.5513953   0.44095242 -1.7520448  -1.3398275   1.5965332  -0.5419596\n",
            "  1.4547132   1.7858951  -0.9081712   0.1554167  -1.8578563  -1.4469728\n",
            "  0.80496335  1.1341985  -0.01252736 -0.7166851  -1.4574628  -1.6201689\n",
            "  2.3024247  -2.1796873  -1.9900146   0.21863382  0.97318715  0.87365866\n",
            " -0.5814297   0.42290175  1.0336206  -1.3199463  -1.4209737   0.31792235\n",
            "  0.21911506 -0.9428089   0.53627264 -1.7942603   1.2467049  -0.22898111\n",
            " -0.91453904 -1.2920179 ]\n",
            "jour\n",
            "[-0.4177269  -1.3110006  -4.297353   -3.639056    0.14390694 -2.2139359\n",
            " -1.1926554   1.2826902  -0.5832567   0.33950746  1.0556663  -1.4659026\n",
            "  0.03858336 -1.4843681  -0.47828823  1.820048   -2.201082    1.6798056\n",
            "  1.2286301   0.21847261 -1.4200591  -0.65965146 -2.534673    1.0194858\n",
            "  0.37383822  0.902086   -0.09267041  0.69485646 -1.0732667   0.96924055\n",
            "  1.1253508   0.6011691  -1.5219648   1.051978    1.4637191  -1.8419462\n",
            " -0.5757283   1.618104   -1.3488871  -0.01306096  0.03356165  0.45055848\n",
            " -0.49124673  0.920885   -0.17859142  1.1981597  -0.42272002  0.1770329\n",
            " -0.77856624  0.5056993  -0.74222785  0.7460151   0.18072316 -2.5973432\n",
            "  2.0555809   1.8330066  -1.5499157  -0.82611066  0.41532838 -0.1258353\n",
            " -0.90181494 -1.2560734  -0.8403736   0.33534133  1.4167075   0.91491175\n",
            "  0.23935245  0.8644327   0.62323856  1.1511374  -2.437493   -0.7505025\n",
            " -0.6735045   2.5902147   2.7759032  -0.36452475 -1.6391559  -0.26710454\n",
            " -2.4217427  -0.69107586]\n",
            "grâce\n",
            "[-0.12334582 -0.6138991  -0.06670437 -1.1284221  -0.4628594  -0.13959517\n",
            " -0.80805856  0.2102385  -0.46876505 -1.5087371   0.10593012 -0.91068053\n",
            "  0.9950355  -0.7381021  -0.6278952   1.9963313   1.2522357   0.43380603\n",
            "  0.0434037   0.4203226  -1.05143    -1.8455882  -0.743749    0.3479317\n",
            "  0.5680554  -0.3357486  -0.39216983 -0.35578516  0.09108015  0.8496271\n",
            " -0.8596337  -0.6543182   0.25072947  0.59890157 -0.44997168 -0.9665232\n",
            " -0.01527729  0.22512195  0.8492191  -0.3217693  -0.8779225   1.2168605\n",
            "  0.5450455   0.20082834  0.7407504  -0.6236005  -1.0631893  -0.7063208\n",
            " -0.66306686  1.0814317   0.53505886 -1.3681737  -0.30775762 -1.3342053\n",
            "  0.06071537 -0.2275387  -1.1017537   0.82976335 -0.2998728   0.92564523\n",
            " -0.98890126 -0.4755555   0.03149816 -0.08602209  1.3982234   2.021024\n",
            " -1.2488375   0.2652289   0.78924954  2.2119858  -0.5058308   0.74025476\n",
            " -0.7278717  -2.2335827  -0.49942446 -0.09771887  0.9314383  -0.9115987\n",
            "  0.29352137  1.3274121 ]\n",
            "événement\n",
            "[ 0.29538947 -2.5240543  -3.072614   -3.9477873   0.04612623 -1.3369031\n",
            "  0.48412752  2.496936   -0.26822525 -0.37799037  1.4107038  -0.24869293\n",
            "  1.0785235  -0.96697885  0.5361631   1.1063612  -1.3091773   0.4819784\n",
            " -2.1187215  -1.1015005  -0.2797368   0.42413324 -2.4409647  -1.2688665\n",
            " -0.03494891 -0.4727272  -0.82837766  0.04279315 -1.0784256   1.7494197\n",
            "  1.0387379   0.11811651 -0.2876203   1.4580884  -0.00907133 -0.12605219\n",
            " -2.347356    0.91206485  1.4979765   0.8667864   0.3266631  -0.83248883\n",
            " -0.8173683  -0.5548888  -0.36300328  0.26986477 -0.07048029 -2.0490532\n",
            " -0.01430535 -0.89051545  0.9690761  -0.12353642 -0.9061524  -1.6846025\n",
            " -0.36970335  1.4015985  -1.0827966  -0.8055232   0.7362847  -0.19828078\n",
            "  0.8539473  -1.5588033   0.10143185 -0.14110708  0.5579085  -0.06820291\n",
            " -0.3543138   0.11825982  0.19752134 -0.36513406 -1.3697999  -0.10025129\n",
            " -1.5659653  -0.01950388  0.19051422  0.7610906  -0.68631715 -0.7061929\n",
            "  1.51393     0.76422495]\n",
            "organiser\n",
            "[-0.00666395  0.8046472  -2.3482075  -2.902564    1.2078953  -0.5160048\n",
            " -0.97694314  1.5891815  -1.3404253  -1.3411028   1.0171989   0.9390116\n",
            "  0.7710307  -1.410665    2.0195813   0.8748691   0.08730691 -0.08137137\n",
            " -2.0923915  -1.106571    1.8800355   1.0401504   0.21983495  0.05249916\n",
            " -0.850852    2.0725675  -0.70516807  0.23389187  0.46522707  1.9396768\n",
            " -1.5129988  -2.362202   -1.7288736   2.4298081   0.005543    0.11391605\n",
            " -2.3666587   0.94733405  1.222683   -0.4863747   1.502577   -2.345467\n",
            "  1.100851   -0.9995648  -0.9374038  -2.2530234  -1.0943756   1.1894519\n",
            "  0.9476818   0.4861094   0.70923954 -1.0235564  -0.30221385  0.06794056\n",
            " -1.6610829   0.24877292 -0.6193067   2.193103   -0.40942496  0.7061111\n",
            " -0.8858816  -0.30340025  2.060953   -0.544982    3.1803598   1.8864018\n",
            "  0.19413434  0.36125422  0.12489339 -1.0404896  -1.9498951   0.6477703\n",
            "  0.5559333  -2.4182513   0.19814387 -1.0923893  -2.0707276  -0.82845515\n",
            "  0.76493645 -0.29397273]\n",
            "communauté\n",
            "[ 2.9895525   2.9432642   1.2271979  -1.4275519  -0.7385683   1.2536659\n",
            "  0.15774953  0.8633444  -3.1683142  -1.3055124  -0.6855811   0.73901516\n",
            "  0.46178022 -3.3467882  -0.49981642  0.31180817  1.2787478   2.1141756\n",
            " -0.12771536 -0.48825076  2.6258385  -1.000214   -0.7530473  -1.3198996\n",
            " -1.3871071   2.19768    -3.9663835   0.29053864 -0.31030318 -0.9137798\n",
            " -2.93657    -1.0256684   2.2760866   2.0777895   1.7745448   0.8300924\n",
            "  1.9911392  -1.4872041   0.6321112   0.5018262   2.2801132  -2.2768993\n",
            "  2.9982224  -0.1649889  -1.6933162  -0.918023    0.24299489  0.91796464\n",
            " -1.029335   -0.65809035 -0.97338086  0.5500685   1.4971362  -0.3915948\n",
            " -0.41435024 -0.7858725  -2.15994     1.1601938  -1.6582664  -1.2179686\n",
            "  0.1404092  -0.88284636  1.0391042  -0.5187316   2.2131095   1.3120122\n",
            "  0.14917274  0.9967254   0.25923812 -1.3601987  -1.0278689  -1.5125512\n",
            "  0.62751955 -1.0253254   0.26941317  1.0064441  -1.1695276  -1.8888593\n",
            "  1.5815383  -0.8092926 ]\n",
            "auteur\n",
            "[ 0.31981355 -1.6623583  -1.9639037  -0.6685041   0.6260941   1.1484046\n",
            " -1.299043    1.2277999   1.2663538  -1.1504318  -1.1815583  -0.43789002\n",
            "  1.6606576  -0.03409032 -0.5216      1.7950591  -0.8964177   1.8487656\n",
            "  0.9712816  -0.19572826 -0.47643456 -0.4641182  -0.6384815  -0.31330767\n",
            " -0.82383966 -0.28550416 -1.8740934   0.84918374  1.2981919   0.58000225\n",
            " -0.8051949   0.03379135  1.4229416  -0.7900626  -0.71635693  0.06935476\n",
            " -0.9641582  -0.31852362  1.4232427   0.89436865  0.14933924 -0.49166656\n",
            " -1.2235585  -1.0215089   0.05418193 -0.6259974  -1.6683484  -1.5716577\n",
            "  0.30524275 -0.8692017   0.9413891  -1.1589448   0.12555973  1.8232957\n",
            " -1.05755    -2.5577648   0.13084625  0.5135201   1.7676668  -3.1727757\n",
            "  0.5429713  -0.58522594  0.49569616  0.67481625 -1.9971613   0.2977729\n",
            " -2.180796   -0.9153052   0.10893384 -0.4994057  -0.05176186 -0.29427928\n",
            " -0.5317982   1.224087   -0.61874276  1.9708909   1.19712    -0.9451163\n",
            "  1.6862903   0.5793064 ]\n",
            "blogueurs\n",
            "[ 0.02842706 -0.0261383   0.01321282  0.0360457   0.03493172 -0.0748252\n",
            " -0.08113784 -0.03593468  0.08706751 -0.02242966 -0.01500607  0.02164403\n",
            "  0.00788734 -0.05700555 -0.01171787  0.02081945 -0.0043006   0.04109612\n",
            " -0.02228209  0.05210277 -0.08205914 -0.0496517  -0.07501608 -0.02392319\n",
            " -0.04861264  0.00651596 -0.08488156  0.01025734  0.00731064  0.06186689\n",
            "  0.01579526 -0.01078882  0.00083174  0.02468376 -0.07593751 -0.02520899\n",
            "  0.00728137 -0.01007169  0.02842864  0.0078297  -0.00987931  0.00437084\n",
            " -0.02769022 -0.10617193 -0.06043816  0.05124984 -0.06195924 -0.06453554\n",
            " -0.05893469  0.00933536  0.02193219 -0.00641309 -0.04740107  0.02036681\n",
            " -0.03341407 -0.10130102  0.00094313 -0.03134906 -0.01279463 -0.01908707\n",
            "  0.06478962  0.05111204  0.00065427  0.04558987 -0.01528188 -0.03860562\n",
            " -0.02031331 -0.02591832 -0.02201528 -0.05991685  0.03536893  0.03831187\n",
            " -0.00702605 -0.04915093 -0.00846958  0.03901245 -0.06819234 -0.04167999\n",
            "  0.04179927  0.00040454]\n",
            "prêter\n",
            "[-0.6095822   0.05333321 -0.02145573 -0.6016729   0.649544   -0.73086053\n",
            " -0.8550774  -0.61069286  0.26271132 -0.7677832  -0.11112651  0.32348582\n",
            "  0.00816351  0.29751188 -0.31694743  0.53684264  0.39733988  0.7870265\n",
            "  0.49389005 -0.35114044 -0.06559367 -0.01856078 -0.39147925 -0.10175983\n",
            " -0.01039721  0.6535287  -0.21283236  0.7084227   0.15788342 -0.03814324\n",
            " -0.4507388   0.3295668   0.4704556   0.26158655 -0.1920837  -0.30356935\n",
            " -0.00305491  0.21090451 -0.08936979 -0.29986268 -0.54608864  0.01112372\n",
            " -0.299537    0.77094036 -0.20402507 -0.01096378 -0.01077225 -0.45062828\n",
            "  0.72642934  0.46048677  0.4224349  -0.35550457  0.05936272 -0.3683565\n",
            "  0.19287848 -0.19116758 -0.63560367  0.11272892  0.0044701  -0.1186197\n",
            "  0.39210382  0.15288697 -0.32911286  0.8007168   0.19080351  0.48012492\n",
            " -0.4750098  -0.31280205  0.50853485  0.5175064   0.04982346  0.2226635\n",
            " -0.51209104 -0.81374365  0.03689138 -0.16983213  0.36328992 -0.63228595\n",
            "  0.544448   -0.00154408]\n",
            "jeu\n",
            "[ 2.5358143e-01  8.4453928e-01  2.0056336e+00  3.2393566e-01\n",
            "  6.2140477e-01 -2.8729987e+00 -3.3700979e+00  1.4564406e+00\n",
            "  2.8256471e+00 -1.2952445e+00  6.1741310e-01 -1.6858876e+00\n",
            " -4.1618901e-01  1.7981130e+00  2.4738953e+00 -2.0027788e+00\n",
            " -5.0426537e-01 -9.6491283e-01  1.5496476e-01  1.2298672e+00\n",
            "  6.0870922e-01 -1.3998708e+00 -3.0195155e+00 -1.4350530e+00\n",
            " -1.2413123e+00  1.6607925e+00 -2.2127566e+00  9.6917289e-01\n",
            "  2.8185928e+00  2.3776498e+00 -7.6339173e-01 -1.3164449e+00\n",
            "  1.2812969e-02  3.8192129e-01 -1.2685316e+00 -2.8345790e+00\n",
            " -3.7266700e+00 -1.4076517e+00  8.1177914e-01 -1.5103084e+00\n",
            "  1.2493896e+00  2.4163818e-01  1.5056132e+00  2.3482132e+00\n",
            " -7.3411065e-01 -1.5722721e+00 -2.2414610e+00 -2.0083721e+00\n",
            "  1.5221649e+00  3.1098896e-01 -1.3173014e-01 -1.3144737e-01\n",
            "  1.6973197e-01  1.2787875e+00  5.4437608e-01  2.4729667e+00\n",
            " -1.3507422e+00 -2.8512028e-01 -1.8576472e+00  4.0586853e-01\n",
            " -3.2320485e-01  4.5653501e-01  4.0644571e-01  1.2721055e+00\n",
            "  8.2769310e-01  5.2149057e-01 -2.4808234e-02 -2.0321279e+00\n",
            "  1.2277544e+00 -1.4275650e+00 -7.9484135e-01  3.9936614e+00\n",
            " -1.4348940e+00 -1.3301913e+00  2.0269229e+00 -4.6470687e-01\n",
            " -6.6259366e-01  6.8720238e-04  1.6666095e-01 -5.8180583e-01]\n",
            "répondre\n",
            "[-1.3110937   0.985052   -0.01505293 -0.88334584  0.53355855 -0.8697497\n",
            " -0.93307984 -1.383663    0.46609792 -1.2217637  -0.07116102  1.2272139\n",
            " -0.83492106  0.18318298 -0.1667556   0.8626866   1.9522742   1.7941092\n",
            "  2.145763   -0.4767637   0.0155227   1.3748368  -1.9510583  -1.0801533\n",
            " -0.25421703 -0.4339695  -0.19305706  1.1689835   0.0509887  -0.10352203\n",
            "  0.9196434   0.2944082   1.6645192   0.68766433 -1.1178793  -0.5108355\n",
            "  0.8221197  -0.95133096 -0.5651893   1.7705353  -2.8818939  -0.84705734\n",
            " -1.5000703   1.7548509  -1.3797495   0.14282165 -0.90551883 -1.0174049\n",
            "  0.6104674   1.1229695   0.5114169  -0.73749983 -1.462259    0.21675287\n",
            " -0.62236434 -1.3486446  -0.36989126 -0.9015465  -0.6787918  -0.91646564\n",
            "  2.4461267   0.6926772  -1.8814193   2.523416    0.18194458  0.23395942\n",
            " -1.1830155   0.29069737  1.3852013   0.21685535 -0.5073591  -1.7316376\n",
            " -0.04547215 -2.4340782  -0.6991497  -1.3206202  -0.6968468  -0.7309542\n",
            "  1.2005587  -0.02222746]\n",
            "thème\n",
            "[ 0.32357323  0.34046912 -0.7648857  -0.4063206   0.18456163  0.43953776\n",
            " -0.14018528  1.068546   -0.05015756 -0.1956121   0.22882648 -0.6841524\n",
            "  0.8514243  -1.1552823   0.7889217   0.27912477 -0.2669896   0.41018546\n",
            " -1.196646   -0.07140807  0.07519004 -0.07342744 -0.8398143  -0.9720084\n",
            " -0.9495582   0.29895088 -1.3552946  -0.25942495  0.13594677  1.5567014\n",
            "  0.15606824 -0.43798018  0.44129962  0.27288672 -0.68227065 -0.02583303\n",
            " -0.66921556  0.08033947  1.1397663   0.8529683   0.844072   -1.3489122\n",
            " -0.23127638 -1.0836998  -0.28454778 -0.2618993  -0.9522441  -0.76253235\n",
            "  0.12159553 -0.2008114   0.96018404 -0.05298227 -0.89714175  0.5509773\n",
            " -1.3832791  -0.39180157  0.49747324 -0.00463218 -0.23090369 -0.9345002\n",
            "  0.33734816 -0.10565636  0.626585   -0.9707233   1.0091237   0.27144894\n",
            " -1.0816306  -0.15083459  0.39395392 -0.370059    0.2288083   0.7209608\n",
            "  0.05720485 -0.8616811  -0.30754936  0.44543132 -0.22913595 -0.9199362\n",
            "  0.52538925  0.94249827]\n",
            "astuce\n",
            "[-5.1639503e-04 -4.4145685e-02 -3.3760390e-01  1.8343656e-01\n",
            " -3.1345848e-02 -3.3676571e-01 -1.6514125e-01  1.2578140e-01\n",
            "  2.3219723e-01 -1.9552784e-01 -1.3982567e-01 -1.4059621e-01\n",
            " -5.0636102e-02 -8.3179966e-02  1.8923444e-01  2.9350677e-01\n",
            " -1.7066112e-01  4.5992401e-01 -1.7752938e-01  4.3022540e-01\n",
            " -6.8894827e-01 -1.8596690e-02 -2.9155251e-01 -3.3140999e-01\n",
            " -1.5651330e-01 -5.6510848e-01 -4.6331182e-01 -2.2506791e-01\n",
            "  1.3948081e-01  3.7061405e-01  1.4366500e-01  1.7121166e-02\n",
            "  1.1776194e-01  1.4178520e-01 -9.4265831e-01 -3.0107805e-01\n",
            " -3.2386544e-01  4.6181712e-02  1.8912004e-01  3.0028921e-01\n",
            "  7.7355586e-02  1.4538231e-01 -5.2859604e-01 -2.1000820e-01\n",
            " -3.9216265e-01  5.1373410e-01 -2.2399679e-01 -2.6924095e-01\n",
            " -1.7698584e-01 -7.7568479e-02 -1.9758192e-01 -4.4406360e-01\n",
            " -3.3692095e-01 -2.3009336e-01 -3.5986307e-01 -4.3249583e-01\n",
            "  8.8506654e-02 -1.9335072e-01 -2.1501665e-01  6.5266853e-03\n",
            "  6.6778833e-01  1.5569200e-01 -2.0815711e-01 -2.8288323e-01\n",
            " -3.6411472e-02 -1.9465430e-02 -4.9604666e-01  1.6851090e-01\n",
            "  1.7686659e-01 -1.3882813e-02  7.4095175e-02  1.8050562e-01\n",
            "  1.4655438e-01 -3.5983056e-01 -2.0225677e-01 -7.4377176e-03\n",
            " -2.5133705e-01 -2.6267058e-01  7.3206879e-02  6.5807901e-02]\n",
            "sentir\n",
            "[-1.7886573   1.1822282   0.37696144  0.21867444 -1.2752662  -1.86727\n",
            " -0.73398036 -1.25446     0.7330216  -1.1447715   0.1423347  -0.7770299\n",
            "  0.7894231  -1.0054021   0.6504386   0.69996977  0.7480047  -0.61035526\n",
            "  1.2219278   0.739659   -3.073993   -0.41444016 -1.1063253   1.2039794\n",
            "  0.5651421  -0.49715576 -1.0499684  -0.8738832  -2.137204    1.8396786\n",
            "  1.5759722   0.92821175  2.4693806   0.09067924 -3.391168   -0.3677693\n",
            " -0.25206923 -0.36802456 -0.8150378  -1.3999158  -0.49003682  0.7569292\n",
            " -1.579332    1.2818127  -0.41498998  2.2071316   0.6814866  -1.4422559\n",
            " -1.1880549   0.82124513 -0.852888   -0.5003859  -0.76140773 -2.5093534\n",
            " -0.2133994  -0.07516813  0.33271217 -1.0909688  -1.0451971  -0.00521864\n",
            "  2.3631678  -0.7068199  -1.3105305  -1.6830271   0.66390187  0.18741551\n",
            " -0.106075    0.60648525  2.1007888   0.11767009 -0.7611891   0.29073754\n",
            " -0.11527337 -1.7698925   0.05699369 -0.3513849   1.2191497  -0.48766342\n",
            "  0.89803785  0.32281056]\n",
            "fait\n",
            "[-2.3455503   0.1901285  -0.1657456  -0.97609407  1.7391784   2.7342358\n",
            " -0.4600811   0.47799608 -0.0265107  -2.2601337  -0.09041949 -1.5571176\n",
            "  0.5828693   2.06098    -1.800272    1.8994067  -1.106827    1.1312388\n",
            "  1.7070837  -0.03776228 -1.2427082   0.8939884  -1.297101    1.1444434\n",
            " -0.9340079   1.6748745  -0.66558015  1.8637784  -0.4590981   0.4728027\n",
            " -1.4672011   1.3657147  -0.9969827  -0.12629043 -0.2788056   0.15273504\n",
            "  0.19464526 -0.47986564 -0.7464124  -0.8575782  -2.5743985   1.9541651\n",
            " -1.3156784   1.0697273  -1.859671   -2.0804439  -1.4497888  -2.4503098\n",
            " -0.3450637  -0.30707088  0.25871694 -0.45825115  0.5334616  -0.6882528\n",
            "  0.5801002   0.68371093  1.6363301   0.6888073  -0.45115274  2.2005184\n",
            "  2.1098716  -2.1770592  -1.9395      0.25822198  0.0648741   4.1768274\n",
            " -0.7446314   1.5390811   0.7461786  -1.1839608  -2.4178252  -0.6404166\n",
            " -0.36777088 -2.2058864   0.48452142  0.7721603   1.289418   -1.3538033\n",
            " -0.494295    0.10911009]\n",
            "posséder\n",
            "[-1.7701558   1.4619019   0.52831346 -0.7764564   0.20060302 -0.2973912\n",
            " -1.1474011  -0.18366057 -1.3455874  -0.8598564  -0.5510055   0.23333311\n",
            "  0.35022876  0.2549358  -1.018949    0.06275757  0.6873328   0.69600886\n",
            "  2.9655156  -0.22652803  0.4481612  -1.3742557  -0.3615434   0.3072939\n",
            "  0.8184366   1.079222   -0.6900193  -0.01861535 -0.22963536 -2.3996959\n",
            " -2.0936074   0.0856002   0.8291305   0.33406422  0.36847883  0.0932784\n",
            "  0.22952108 -0.7836396  -0.03848687 -1.071799   -0.55550194  0.3623601\n",
            "  0.6290543   0.15752833 -0.23538402 -0.66252345  0.77184564  0.97838837\n",
            " -1.2209079   1.5522352  -0.7281191  -0.06247064  0.37287712 -0.8537675\n",
            "  1.98705    -0.34495828 -1.2065222   1.5193741  -0.77998334 -0.7486206\n",
            " -0.3191655  -1.4612823  -0.21006379  0.19300203  0.34456864  0.43267915\n",
            " -1.0992249   0.4095717  -0.18530495  0.16170622  0.5002617  -0.26975784\n",
            " -0.7465952   0.2262197   0.8023408   1.0441197   0.8979433  -0.93367654\n",
            "  1.5472292  -0.27707952]\n",
            "document\n",
            "[ 0.92570746 -0.42011306 -1.8802644  -1.2101153  -1.5772456  -0.25422707\n",
            " -1.2257392   1.6469288  -1.7302583  -2.753802   -1.156534   -2.4385157\n",
            "  1.6532774   2.837147   -1.6059201   0.6753835  -1.740454    3.9266093\n",
            " -1.3083571   1.6637572   0.20517412 -0.25639924 -1.5006236  -0.9041187\n",
            " -2.133612   -2.1881182  -1.4252405  -0.39343664  3.322657   -2.3159428\n",
            " -1.5927058  -0.01872593 -0.83115166 -0.21267512  0.6393124  -2.8175178\n",
            " -0.25829476 -1.6293019   0.26214436  0.9408685   0.66398776 -1.9337455\n",
            " -1.381687   -1.2932161  -1.8636492  -0.91739804  0.2953908   0.7495682\n",
            " -0.56197846 -2.330324    0.83111703  0.8102818   0.93292356  1.3403134\n",
            "  0.42594764 -2.4583857  -1.9652271   0.07959285 -0.5972981  -0.3666704\n",
            "  0.79790556  0.09692806  0.32894617  1.311393    0.22782665 -1.5894868\n",
            " -0.6268218  -2.0133233   0.18617648 -0.86283493 -0.6007657  -0.244578\n",
            " -1.8694452  -1.9149774  -1.5048348   3.8087285  -3.1626527  -1.2385452\n",
            " -0.10476195 -0.07014447]\n",
            "donne\n",
            "[-2.6830122   1.8424015  -0.00775274 -2.7443266   0.4708273  -0.36106\n",
            " -0.3262906   0.45170912  0.68114126 -0.79674876 -0.4935293  -0.26694265\n",
            " -0.59692883  0.9579382  -1.1809567   1.3421899  -0.00480824  2.4633365\n",
            "  1.2290787  -0.5952243   0.09878878 -0.5615425  -0.29152122 -0.09339607\n",
            "  1.5108163   0.1136723   0.5792907   0.6047528   1.2848607   0.45038015\n",
            " -0.22641069 -0.25820002  0.4661269   0.39873415  0.03132989 -1.3965578\n",
            "  0.54156876 -0.53734523  0.34877172 -2.166995   -0.15998752  0.7050283\n",
            " -1.080229    1.4311229  -0.23933694 -1.2532756   0.04524121 -0.6643952\n",
            " -0.47507805  0.6042292  -0.27349895 -1.6550694  -0.878974   -1.4754599\n",
            "  0.01554925  0.10720295 -0.67644066  0.459618   -0.35876805 -0.7318104\n",
            " -0.53093386 -1.1986005  -1.0869199   0.51482743 -0.3399908   1.5525733\n",
            " -0.7239996  -1.1653308   0.58790857  0.9161091  -0.6083026   0.05585622\n",
            "  0.16972424  0.77165616 -1.5745362   1.6891263   0.4035121  -0.7813964\n",
            "  0.59854555  0.81754154]\n",
            "droit\n",
            "[-2.9219756   2.650816   -0.9185171  -2.3057837   4.2185593  -3.1755877\n",
            " -4.578878   -1.2668377  -2.1268005   1.0741682  -3.2289038   1.6997677\n",
            "  1.0998014   4.0075846  -1.3293848   0.9542009   0.89438736  2.3615365\n",
            " -1.2613343   1.812906   -3.287642   -0.13810082  1.3263696  -1.8484306\n",
            " -2.678307    1.2981317  -2.1467853   0.84682155 -1.1525458  -3.07746\n",
            " -7.2788787   5.8458214   0.73871714 -1.8448219   1.423296   -0.12564752\n",
            "  2.7519934  -0.7806443   2.5798407  -1.2089337   1.6081884  -0.8872001\n",
            "  2.3074417   1.5055891   0.98850846 -3.8807266   0.6917747   1.8874613\n",
            " -0.38879243  1.6300949  -1.8528881  -1.4566879   2.5056736  -3.7638512\n",
            "  5.322927   -2.9968145  -3.446072    1.8213089   1.0414535  -4.021403\n",
            "  1.9168996   3.8827603   7.1691747   2.4318008  -1.1871167   0.68280005\n",
            " -0.5945735   2.7258875  -1.3268325   1.0089703  -0.63064295  3.0458658\n",
            " -2.5530343   0.7577979   4.3682284   4.2438197  -1.4104998  -4.521616\n",
            "  3.4176602  -0.9587972 ]\n"
          ],
          "name": "stdout"
        }
      ]
    },
    {
      "cell_type": "code",
      "metadata": {
        "scrolled": true,
        "id": "yTfef3wy8tGA",
        "outputId": "18ba018b-90bc-4db8-9733-a8069ea389a4"
      },
      "source": [
        "from sklearn.decomposition import PCA\n",
        "from matplotlib import pyplot\n",
        "import random\n",
        "from pylab import rcParams\n",
        "\n",
        "\n",
        "# Reduction de dimension 2D pour visualiser\n",
        "X = model[model.wv.vocab]\n",
        "pca = PCA(n_components=2)\n",
        "result = pca.fit_transform(X)\n",
        "\n",
        "\n",
        "words = list(model.wv.vocab)\n",
        "\n",
        "for i, word in enumerate(random.choices(words, k=200)):\n",
        "    pyplot.annotate(word, xy=(result[i, 0], result[i, 1]))\n",
        "\n",
        "pyplot.axis([-1,5,-3,3])\n",
        "pyplot.show();"
      ],
      "execution_count": null,
      "outputs": [
        {
          "output_type": "stream",
          "text": [
            "/home/david/anaconda3/envs/dev/lib/python3.7/site-packages/ipykernel_launcher.py:8: DeprecationWarning: Call to deprecated `__getitem__` (Method will be removed in 4.0.0, use self.wv.__getitem__() instead).\n",
            "  \n"
          ],
          "name": "stderr"
        },
        {
          "output_type": "display_data",
          "data": {
            "image/png": "[encoded data removed]",
            "text/plain": [
              "<Figure size 432x288 with 1 Axes>"
            ]
          },
          "metadata": {
            "tags": [],
            "needs_background": "light"
          }
        }
      ]
    },
    {
      "cell_type": "markdown",
      "metadata": {
        "id": "TUdAa8uZ8tGC"
      },
      "source": [
        "9) Phrase featuring\n",
        "\n",
        "Construisez une fonction de featurisation de phrase :\n",
        "\n",
        "input : Chaine de caractère (une phrase)\n",
        "output: un vecteur sémantique de la taille de l'espace du W2V représentant la phrase\n",
        "\n",
        "Nous venons de découvrir une autre façon de featurer du texte. En effet, en regroupant les vecteurs\n",
        "de chaque mot d'une phrase, nous sommes maintenant capable d'en construire un pour une phrase\n",
        "composée de mots\n",
        "\n",
        "mot1=(x1,x2,...,x499,x500) mot2=(y1,y2,...,y499,y500)\n",
        "\n",
        "sentence[mot1,mot2]\n",
        "\n",
        "sentence=(moyenne(x1,y2),moyenne(x2,y2),...,moyenne(x500,y500))\n",
        "\n",
        "Il faudra gérer les mots absents du vocabulaire puis sommer ou moyenner ou max ou min ,...\n",
        "les vecteurs mots entre eux pour créer un vecteur portant la sémantique de la phrase"
      ]
    },
    {
      "cell_type": "code",
      "metadata": {
        "scrolled": true,
        "id": "RYGWP3SX8tGD",
        "outputId": "93e5bf0b-018d-4647-8770-df1b7fd52e37"
      },
      "source": [
        "def sent_embed(phrase):\n",
        "    \"\"\"\n",
        "    input  : chaine de caractere (un ou plusieurs mots) à vectoriser \n",
        "    output : Vecteur associé à la chaine de caractere données en entrée\n",
        "    \"\"\"\n",
        "    l=[]\n",
        "    for mot in nett(phrase).split():\n",
        "        try:\n",
        "            l.append(model.wv.get_vector(mot))\n",
        "        except:\n",
        "            continue\n",
        "    vecs=np.array(l)\n",
        "    l=[]\n",
        "    for j in range(vecs.shape[1]):\n",
        "        l.append(vecs[:,j].mean())\n",
        "    phrase_vec=np.array(l)\n",
        "    phrase_vec=phrase_vec.reshape(1,-1)\n",
        "    return phrase_vec\n",
        "\n",
        "t=\"J'aime manger des fruits et des légumes\"\n",
        "t=\"Je cours dans les bois tous les soirs\"\n",
        "sent_embed(t)"
      ],
      "execution_count": null,
      "outputs": [
        {
          "output_type": "execute_result",
          "data": {
            "text/plain": [
              "array([[-0.8408459 , -0.06369158, -1.7197384 , -2.3397868 , -0.72968197,\n",
              "        -1.5708046 ,  0.14754432,  0.31875685, -0.40941384, -0.10019439,\n",
              "        -1.3484386 ,  0.19314902,  1.0222439 ,  1.7046438 , -0.78948355,\n",
              "        -0.29876074, -0.48187056,  0.932493  ,  0.41699848, -0.02627291,\n",
              "        -1.5140781 , -0.6386875 , -0.92733496,  0.7832939 ,  0.12243506,\n",
              "         1.4927063 , -0.24825813,  0.21032882, -2.303733  , -0.74876946,\n",
              "        -0.54026395, -0.77954507, -1.6073627 , -0.43598664,  1.7643791 ,\n",
              "        -1.6092831 ,  0.6813068 ,  0.51331323, -0.8154723 , -1.1482742 ,\n",
              "        -1.1580956 ,  0.8371865 ,  0.01756692, -0.4874419 , -0.34051725,\n",
              "         1.4723715 , -0.9622898 ,  0.05950027, -1.195986  ,  0.67076683,\n",
              "        -0.23601238,  0.9562381 , -0.4312174 , -2.0927155 , -0.28780982,\n",
              "         0.67057276,  0.08177733,  0.5320246 ,  0.6374221 ,  1.798549  ,\n",
              "         1.1047171 , -0.19773202, -0.33061543,  1.3013152 ,  0.65026104,\n",
              "        -0.45409158,  0.6747188 ,  0.5036064 ,  0.08292884, -1.193668  ,\n",
              "        -1.6222639 ,  0.69809586, -0.7569683 , -0.30574927,  0.9077919 ,\n",
              "         0.43113503, -1.248501  ,  1.3504401 , -0.51186365, -0.9933917 ]],\n",
              "      dtype=float32)"
            ]
          },
          "metadata": {
            "tags": []
          },
          "execution_count": 75
        }
      ]
    },
    {
      "cell_type": "code",
      "metadata": {
        "scrolled": true,
        "id": "daaNSo_r8tGE",
        "outputId": "2e76276c-9e56-45b9-88ff-0334e28266c5"
      },
      "source": [
        "#t=\"J'aime manger des fruits et des légumes\"\n",
        "t=\"Je cours dans les bois tous les soirs\"\n",
        "t=\"Je combat de toute mes forces dans les barricades\"\n",
        "t=\"Sésame ouvre toi\"\n",
        "model.wv.similar_by_vector(sent_embed(t)[0,:], topn=10, restrict_vocab=None)"
      ],
      "execution_count": null,
      "outputs": [
        {
          "output_type": "execute_result",
          "data": {
            "text/plain": [
              "[('ouvre', 0.9890761375427246),\n",
              " ('ouvrir', 0.7440721988677979),\n",
              " ('fermé', 0.7109928131103516),\n",
              " ('aligner', 0.7109204530715942),\n",
              " ('fermer', 0.7062037587165833),\n",
              " ('ouvrait', 0.7034279704093933),\n",
              " ('grillage', 0.7016193866729736),\n",
              " ('pavée', 0.699458122253418),\n",
              " ('vitrée', 0.6971789002418518),\n",
              " ('ferment', 0.6965796947479248)]"
            ]
          },
          "metadata": {
            "tags": []
          },
          "execution_count": 77
        }
      ]
    },
    {
      "cell_type": "code",
      "metadata": {
        "id": "AX8GACyV8tGF"
      },
      "source": [
        "from sklearn.metrics.pairwise import cosine_similarity"
      ],
      "execution_count": null,
      "outputs": []
    },
    {
      "cell_type": "code",
      "metadata": {
        "scrolled": true,
        "id": "DODRzDIQ8tGG",
        "outputId": "4c774bc4-70c3-408d-ed15-bf166366003e"
      },
      "source": [
        "t1=\"Je cours dans les bois tous les soirs\"\n",
        "t2=\"Je combat de toute mes forces dans les barricades\"\n",
        "t3=\"Elle se repentait déjà de sa résolution. Mais elle fut bientôt en proie à une épouvante plus cruelle que son repentir\"\n",
        "t4=\"Psg a été crucifié par Marez Riyad en League des champions\"\n",
        "cosine_similarity(sent_embed(t3),sent_embed(t2))"
      ],
      "execution_count": null,
      "outputs": [
        {
          "output_type": "execute_result",
          "data": {
            "text/plain": [
              "array([[0.5930992]], dtype=float32)"
            ]
          },
          "metadata": {
            "tags": []
          },
          "execution_count": 78
        }
      ]
    },
    {
      "cell_type": "code",
      "metadata": {
        "id": "46gVy0dQ8tGH"
      },
      "source": [
        "encoding = tokenizer.encode_plus(question, texte, add_special_tokens=True, return_tensors=\"pt\")"
      ],
      "execution_count": null,
      "outputs": []
    }
  ]
}